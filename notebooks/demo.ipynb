{
 "cells": [
  {
   "cell_type": "code",
   "execution_count": 1,
   "metadata": {},
   "outputs": [
    {
     "name": "stderr",
     "output_type": "stream",
     "text": [
      "/home/marumarukun/pj/my_study/onnx_quantization/.venv/lib/python3.12/site-packages/tqdm/auto.py:21: TqdmWarning: IProgress not found. Please update jupyter and ipywidgets. See https://ipywidgets.readthedocs.io/en/stable/user_install.html\n",
      "  from .autonotebook import tqdm as notebook_tqdm\n"
     ]
    }
   ],
   "source": [
    "import numpy as np\n",
    "import onnxruntime as ort\n",
    "import timm\n",
    "import torch\n",
    "from onnxruntime.quantization import CalibrationDataReader, CalibrationMethod, quantize_static\n",
    "\n",
    "from src.seed import seed_everything\n",
    "\n",
    "seed_everything(42)\n"
   ]
  },
  {
   "cell_type": "code",
   "execution_count": 3,
   "metadata": {},
   "outputs": [
    {
     "name": "stdout",
     "output_type": "stream",
     "text": [
      "['TensorrtExecutionProvider', 'CUDAExecutionProvider', 'CPUExecutionProvider']\n"
     ]
    }
   ],
   "source": [
    "print(ort.get_available_providers())\n"
   ]
  },
  {
   "cell_type": "code",
   "execution_count": 4,
   "metadata": {},
   "outputs": [
    {
     "data": {
      "text/plain": [
       "tensor([[ 0.1005, -0.0164,  0.0238, -0.0473, -0.0282, -0.0354,  0.0018,  0.0091,\n",
       "          0.0022, -0.0017]], grad_fn=<AddmmBackward0>)"
      ]
     },
     "execution_count": 4,
     "metadata": {},
     "output_type": "execute_result"
    }
   ],
   "source": [
    "img_height = 224\n",
    "img_width = 224\n",
    "x = torch.randn(1, 3, img_height, img_width)\n",
    "\n",
    "model = timm.create_model(\"resnet50\", pretrained=True, num_classes=10)\n",
    "model(x)\n"
   ]
  },
  {
   "cell_type": "code",
   "execution_count": 5,
   "metadata": {},
   "outputs": [],
   "source": [
    "torch.onnx.export(\n",
    "    model,\n",
    "    x,\n",
    "    \"model.onnx\",\n",
    "    export_params=True,\n",
    "    opset_version=12,\n",
    "    do_constant_folding=True,\n",
    "    input_names=[\"input\"],\n",
    "    output_names=[\"output\"],\n",
    "    dynamic_axes={\"input\": {0: \"batch_size\"}, \"output\": {0: \"batch_size\"}},\n",
    ")\n"
   ]
  },
  {
   "cell_type": "code",
   "execution_count": 17,
   "metadata": {},
   "outputs": [
    {
     "name": "stdout",
     "output_type": "stream",
     "text": [
      "output=array([[ 0.04625579,  0.02774971,  0.05941668,  0.11544025, -0.04251363,\n",
      "        -0.04008248, -0.07649988,  0.09241282, -0.01849725,  0.02181285],\n",
      "       [ 0.04758538,  0.01739735,  0.0605131 ,  0.12453301, -0.05036511,\n",
      "        -0.04451123, -0.08644277,  0.09327842, -0.0261997 ,  0.01296974],\n",
      "       [ 0.04499255,  0.03298238,  0.05564933,  0.11027539, -0.05724603,\n",
      "        -0.04432326, -0.08007257,  0.09728942, -0.02808353,  0.02220638],\n",
      "       [ 0.047485  ,  0.01826401,  0.05600831,  0.10583325, -0.05987557,\n",
      "        -0.05351613, -0.06847225,  0.09310697, -0.02715121,  0.01293   ]],\n",
      "      dtype=float32)\n"
     ]
    }
   ],
   "source": [
    "# providers = [\"CPUExecutionProvider\"] # CPU環境\n",
    "providers = [\"CUDAExecutionProvider\"] # GPU環境\n",
    "\n",
    "session_fp32 = ort.InferenceSession(\"model.onnx\", providers=providers)\n",
    "\n",
    "# 入力はfloat32で渡す\n",
    "x = np.random.randn(4, 3, img_height, img_width).astype(np.float32)\n",
    "\n",
    "# 推論\n",
    "output = session_fp32.run([], {\"input\": x})[0]\n",
    "print(f\"{output=}\")\n"
   ]
  },
  {
   "cell_type": "code",
   "execution_count": 20,
   "metadata": {},
   "outputs": [
    {
     "name": "stdout",
     "output_type": "stream",
     "text": [
      "ONNXモデルの量子化が完了しました。\n"
     ]
    }
   ],
   "source": [
    "# ONNXモデルの最適化を行う\n",
    "!python -m onnxruntime.quantization.preprocess --input model.onnx --output model-infer.onnx\n",
    "\n",
    "print(\"ONNXモデルの最適化が完了しました。\")\n"
   ]
  },
  {
   "cell_type": "code",
   "execution_count": 21,
   "metadata": {},
   "outputs": [],
   "source": [
    "class ImgDataReader(CalibrationDataReader):\n",
    "    def __init__(self, imgs: np.ndarray) -> None:\n",
    "        self.imgs = imgs  # 形状(Batch, C, H, W)\n",
    "        self.img_dicts = iter([{\"input\": img[np.newaxis]} for img in self.imgs])\n",
    "        self.datasize = len(self.imgs)\n",
    "\n",
    "    def get_next(self) -> dict[str, np.ndarray] | None:\n",
    "        # git_next関数は{\"input\": ndarray形式}で返す。全て返し終わったらNone\n",
    "        return next(self.img_dicts, None)\n"
   ]
  },
  {
   "cell_type": "code",
   "execution_count": 22,
   "metadata": {},
   "outputs": [],
   "source": [
    "# imgsは形状が（Batch, C, H, W）の画像データとする\n",
    "imgs = np.random.randn(10, 3, img_height, img_width).astype(np.float32)\n",
    "input_model_path = \"model-infer.onnx\"\n",
    "output_model_path = \"model-sq.onnx\"\n",
    "data_reader = ImgDataReader(imgs)\n",
    "method = CalibrationMethod.MinMax\n",
    "quantize_static(input_model_path, output_model_path, data_reader, calibrate_method=method)\n"
   ]
  }
 ],
 "metadata": {
  "kernelspec": {
   "display_name": ".venv",
   "language": "python",
   "name": "python3"
  },
  "language_info": {
   "codemirror_mode": {
    "name": "ipython",
    "version": 3
   },
   "file_extension": ".py",
   "mimetype": "text/x-python",
   "name": "python",
   "nbconvert_exporter": "python",
   "pygments_lexer": "ipython3",
   "version": "3.12.3"
  }
 },
 "nbformat": 4,
 "nbformat_minor": 2
}
