{
 "cells": [
  {
   "cell_type": "code",
   "execution_count": 1,
   "metadata": {},
   "outputs": [
    {
     "name": "stderr",
     "output_type": "stream",
     "text": [
      "/Users/marumarukun/Documents/my_study/onnx_quantization/.venv/lib/python3.12/site-packages/tqdm/auto.py:21: TqdmWarning: IProgress not found. Please update jupyter and ipywidgets. See https://ipywidgets.readthedocs.io/en/stable/user_install.html\n",
      "  from .autonotebook import tqdm as notebook_tqdm\n"
     ]
    }
   ],
   "source": [
    "from typing import Dict, Union\n",
    "\n",
    "import numpy as np\n",
    "import onnxruntime as ort\n",
    "import timm\n",
    "import torch\n",
    "from onnxruntime.quantization import CalibrationDataReader, CalibrationMethod, quantize_static\n",
    "\n",
    "from src.seed import seed_everything\n",
    "\n",
    "seed_everything(42)\n"
   ]
  },
  {
   "cell_type": "code",
   "execution_count": 2,
   "metadata": {},
   "outputs": [
    {
     "data": {
      "text/plain": [
       "tensor([[ 0.1005, -0.0164,  0.0238, -0.0473, -0.0282, -0.0354,  0.0018,  0.0091,\n",
       "          0.0022, -0.0017]], grad_fn=<AddmmBackward0>)"
      ]
     },
     "execution_count": 2,
     "metadata": {},
     "output_type": "execute_result"
    }
   ],
   "source": [
    "img_height = 224\n",
    "img_width = 224\n",
    "x = torch.randn(1, 3, img_height, img_width)\n",
    "\n",
    "model = timm.create_model(\"resnet50\", pretrained=True, num_classes=10)\n",
    "model(x)\n"
   ]
  },
  {
   "cell_type": "code",
   "execution_count": 3,
   "metadata": {},
   "outputs": [],
   "source": [
    "torch.onnx.export(\n",
    "    model,\n",
    "    x,\n",
    "    \"model.onnx\",\n",
    "    export_params=True,\n",
    "    opset_version=12,\n",
    "    do_constant_folding=True,\n",
    "    input_names=[\"input\"],\n",
    "    output_names=[\"output\"],\n",
    "    dynamic_axes={\"input\": {0: \"batch_size\"}, \"output\": {0: \"batch_size\"}},\n",
    ")\n"
   ]
  },
  {
   "cell_type": "code",
   "execution_count": 4,
   "metadata": {},
   "outputs": [
    {
     "name": "stdout",
     "output_type": "stream",
     "text": [
      "output=array([[ 0.0476543 ,  0.02461434,  0.05225206,  0.11924067, -0.04636435,\n",
      "        -0.04621083, -0.08258556,  0.08939756, -0.02054376,  0.01423609],\n",
      "       [ 0.05815532,  0.01002552,  0.05692532,  0.11288723, -0.0532899 ,\n",
      "        -0.05293959, -0.07087824,  0.09985154, -0.01899079,  0.01401258],\n",
      "       [ 0.04634621,  0.01690613,  0.05314342,  0.12114876, -0.05235383,\n",
      "        -0.04252257, -0.08219366,  0.0966015 , -0.02349848,  0.00525925],\n",
      "       [ 0.04864033,  0.02333969,  0.05780552,  0.12373698, -0.05364507,\n",
      "        -0.05114723, -0.08610532,  0.09010924, -0.02112752,  0.01301998]],\n",
      "      dtype=float32)\n"
     ]
    }
   ],
   "source": [
    "providers = [\"CPUExecutionProvider\"]\n",
    "\n",
    "session_fp32 = ort.InferenceSession(\"model.onnx\", providers=providers)\n",
    "\n",
    "# 入力はfloat32で渡す\n",
    "x = np.random.randn(4, 3, img_height, img_width).astype(np.float32)\n",
    "\n",
    "# 推論\n",
    "output = session_fp32.run([], {\"input\": x})[0]\n",
    "print(f\"{output=}\")\n"
   ]
  },
  {
   "cell_type": "code",
   "execution_count": 5,
   "metadata": {},
   "outputs": [],
   "source": [
    "class ImgDataReader(CalibrationDataReader):\n",
    "    def __init__(self, imgs: np.ndarray) -> None:\n",
    "        self.imgs = imgs  # 形状(Batch, C, H, W)\n",
    "        self.img_dicts = iter([{\"input\": img[np.newaxis]} for img in self.imgs])\n",
    "        self.datasize = len(self.imgs)\n",
    "\n",
    "    def get_next(self) -> dict[str, np.ndarray] | None:\n",
    "        # git_next関数は{\"input\": ndarray形式}で返す。全て返し終わったらNone\n",
    "        return next(self.img_dicts, None)\n"
   ]
  },
  {
   "cell_type": "code",
   "execution_count": 6,
   "metadata": {},
   "outputs": [],
   "source": [
    "# imgsは形状が（Batch, C, H, W）の画像データとする\n",
    "imgs = np.random.randn(10, 3, img_height, img_width).astype(np.float32)\n",
    "input_model_path = \"model-infer.onnx\"\n",
    "output_model_path = \"model-sq.onnx\"\n",
    "data_reader = ImgDataReader(imgs)\n",
    "method = CalibrationMethod.MinMax\n",
    "quantize_static(input_model_path, output_model_path, data_reader, calibrate_method=method)\n"
   ]
  }
 ],
 "metadata": {
  "kernelspec": {
   "display_name": ".venv",
   "language": "python",
   "name": "python3"
  },
  "language_info": {
   "codemirror_mode": {
    "name": "ipython",
    "version": 3
   },
   "file_extension": ".py",
   "mimetype": "text/x-python",
   "name": "python",
   "nbconvert_exporter": "python",
   "pygments_lexer": "ipython3",
   "version": "3.12.2"
  }
 },
 "nbformat": 4,
 "nbformat_minor": 2
}
